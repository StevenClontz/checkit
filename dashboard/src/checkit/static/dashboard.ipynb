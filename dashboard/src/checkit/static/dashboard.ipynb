{
    "cells": [
     {
      "cell_type": "markdown",
      "metadata": {
       "collapsed": false,
       "editable": false
      },
      "source": [
       "# CheckIt Dashboard\n",
       "\n",
       "**▶ Run** the code cell below to start the Dashboard."
      ]
     },
     {
      "cell_type": "code",
      "execution_count": 1,
      "metadata": {
       "collapsed": false,
       "editable": false
      },
      "outputs": [],
      "source": [
       "from checkit import dashboard\n",
       "dashboard.run()"
      ]
     }
    ],
    "metadata": {
     "kernelspec": {
      "display_name": "Python 3 (system-wide)",
      "language": "python",
      "metadata": {
       "cocalc": {
        "description": "Python 3 programming language",
        "priority": 100,
        "url": "https://www.python.org/"
       }
      },
      "name": "python3",
      "resource_dir": "/ext/jupyter/kernels/python3"
     }
    },
    "nbformat": 4,
    "nbformat_minor": 4
   }